{
  "nbformat": 4,
  "nbformat_minor": 0,
  "metadata": {
    "colab": {
      "provenance": [],
      "collapsed_sections": [],
      "authorship_tag": "ABX9TyN+YhwADRKLiIkSKSdKuE1p",
      "include_colab_link": true
    },
    "kernelspec": {
      "name": "python3",
      "display_name": "Python 3"
    },
    "language_info": {
      "name": "python"
    }
  },
  "cells": [
    {
      "cell_type": "markdown",
      "metadata": {
        "id": "view-in-github",
        "colab_type": "text"
      },
      "source": [
        "<a href=\"https://colab.research.google.com/github/KenichiQaz/ML_Learning/blob/main/Own_Try16.ipynb\" target=\"_parent\"><img src=\"https://colab.research.google.com/assets/colab-badge.svg\" alt=\"Open In Colab\"/></a>"
      ]
    },
    {
      "cell_type": "markdown",
      "source": [
        "# Accelerated SGD\n"
      ],
      "metadata": {
        "id": "1R8UEZsFAO_O"
      }
    },
    {
      "cell_type": "code",
      "source": [
        "from fastai.vision.all import *"
      ],
      "metadata": {
        "id": "uwSPby5EDRgA"
      },
      "execution_count": 4,
      "outputs": []
    },
    {
      "cell_type": "code",
      "execution_count": null,
      "metadata": {
        "id": "eUitZCok-oFR"
      },
      "outputs": [],
      "source": [
        "def get_data(url, presize, resize):\n",
        "    path = untar_data(url)\n",
        "    return DataBlock(\n",
        "        blocks=(ImageBlock, CategoryBlock), get_items=get_image_files, \n",
        "        splitter=GrandparentSplitter(valid_name='val'),\n",
        "        get_y=parent_label, item_tfms=Resize(presize),\n",
        "        batch_tfms=[*aug_transforms(min_scale=0.5, size=resize),\n",
        "                    Normalize.from_stats(*imagenet_stats)],\n",
        "    ).dataloaders(path, bs=128)"
      ]
    },
    {
      "cell_type": "code",
      "source": [
        "dls = get_data(URLs.IMAGENETTE_160, 160, 128)"
      ],
      "metadata": {
        "colab": {
          "base_uri": "https://localhost:8080/",
          "height": 170
        },
        "id": "PyP1qxF2AGZG",
        "outputId": "ee9f97b2-d1a5-4e0a-bbe1-69e7a7d66e98"
      },
      "execution_count": null,
      "outputs": [
        {
          "output_type": "error",
          "ename": "NameError",
          "evalue": "ignored",
          "traceback": [
            "\u001b[0;31m---------------------------------------------------------------------------\u001b[0m",
            "\u001b[0;31mNameError\u001b[0m                                 Traceback (most recent call last)",
            "\u001b[0;32m<ipython-input-2-7d0e06cd1e60>\u001b[0m in \u001b[0;36m<module>\u001b[0;34m\u001b[0m\n\u001b[0;32m----> 1\u001b[0;31m \u001b[0mdls\u001b[0m \u001b[0;34m=\u001b[0m \u001b[0mget_data\u001b[0m\u001b[0;34m(\u001b[0m\u001b[0mURLs\u001b[0m\u001b[0;34m.\u001b[0m\u001b[0mIMAGENETTE_160\u001b[0m\u001b[0;34m,\u001b[0m \u001b[0;36m160\u001b[0m\u001b[0;34m,\u001b[0m \u001b[0;36m128\u001b[0m\u001b[0;34m)\u001b[0m\u001b[0;34m\u001b[0m\u001b[0;34m\u001b[0m\u001b[0m\n\u001b[0m",
            "\u001b[0;31mNameError\u001b[0m: name 'URLs' is not defined"
          ]
        }
      ]
    },
    {
      "cell_type": "code",
      "source": [
        "def get_learner(**kwargs):\n",
        "    return vision_learner(dls, resnet34, pretrained=False,\n",
        "                    metrics=accuracy, **kwargs).to_fp16()"
      ],
      "metadata": {
        "id": "M4nD_WdPAH20"
      },
      "execution_count": null,
      "outputs": []
    },
    {
      "cell_type": "code",
      "source": [
        "learn = get_learner()\n",
        "learn.fit_one_cycle(3, 0.003)"
      ],
      "metadata": {
        "id": "e_ZT1BAuAIhR"
      },
      "execution_count": null,
      "outputs": []
    },
    {
      "cell_type": "code",
      "source": [
        "learn = get_learner(opt_func=SGD)"
      ],
      "metadata": {
        "id": "zS6Pu9gZAKFR"
      },
      "execution_count": null,
      "outputs": []
    },
    {
      "cell_type": "code",
      "source": [
        "learn.lr_find()"
      ],
      "metadata": {
        "id": "xAQtx9_HALRP"
      },
      "execution_count": null,
      "outputs": []
    },
    {
      "cell_type": "code",
      "source": [
        "learn.fit_one_cycle(3, 0.03, moms=(0,0,0))"
      ],
      "metadata": {
        "id": "bYC7zR90ANXg"
      },
      "execution_count": null,
      "outputs": []
    }
  ]
}