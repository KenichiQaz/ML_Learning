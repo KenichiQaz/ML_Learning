{
  "cells": [
    {
      "cell_type": "markdown",
      "metadata": {
        "id": "view-in-github",
        "colab_type": "text"
      },
      "source": [
        "<a href=\"https://colab.research.google.com/github/KenichiQaz/ML_Learning/blob/main/Board_game_review_predictor.ipynb\" target=\"_parent\"><img src=\"https://colab.research.google.com/assets/colab-badge.svg\" alt=\"Open In Colab\"/></a>"
      ]
    },
    {
      "cell_type": "code",
      "execution_count": 6,
      "id": "f48a4767",
      "metadata": {
        "id": "f48a4767"
      },
      "outputs": [],
      "source": [
        "import sys\n",
        "import pandas\n",
        "import matplotlib\n",
        "import seaborn\n",
        "import sklearn"
      ]
    },
    {
      "cell_type": "code",
      "execution_count": 7,
      "id": "c8899a37",
      "metadata": {
        "colab": {
          "base_uri": "https://localhost:8080/"
        },
        "id": "c8899a37",
        "outputId": "879b838f-320e-4289-8996-43e6067fdafa"
      },
      "outputs": [
        {
          "output_type": "stream",
          "name": "stdout",
          "text": [
            "3.7.14 (default, Sep  8 2022, 00:06:44) \n",
            "[GCC 7.5.0]\n",
            "1.3.5\n",
            "3.2.2\n",
            "0.11.2\n",
            "1.0.2\n"
          ]
        }
      ],
      "source": [
        "print(sys.version)\n",
        "print(pandas.__version__)\n",
        "print(matplotlib.__version__)\n",
        "print(seaborn.__version__)\n",
        "print(sklearn.__version__)"
      ]
    },
    {
      "cell_type": "code",
      "execution_count": 8,
      "id": "abb8d318",
      "metadata": {
        "id": "abb8d318"
      },
      "outputs": [],
      "source": [
        "import matplotlib.pyplot as plt\n",
        "import seaborn as sns\n",
        "from sklearn.model_selection import train_test_split"
      ]
    },
    {
      "cell_type": "code",
      "source": [
        "from google.colab import drive\n",
        "drive.mount('/content/drive')"
      ],
      "metadata": {
        "colab": {
          "base_uri": "https://localhost:8080/"
        },
        "id": "N7pogvfu18Pj",
        "outputId": "8fd04a80-ccbf-4f6c-df68-3170e7b94b68"
      },
      "id": "N7pogvfu18Pj",
      "execution_count": 9,
      "outputs": [
        {
          "output_type": "stream",
          "name": "stdout",
          "text": [
            "Drive already mounted at /content/drive; to attempt to forcibly remount, call drive.mount(\"/content/drive\", force_remount=True).\n"
          ]
        }
      ]
    },
    {
      "cell_type": "code",
      "execution_count": 10,
      "id": "a1ac5ed6",
      "metadata": {
        "colab": {
          "base_uri": "https://localhost:8080/"
        },
        "id": "a1ac5ed6",
        "outputId": "988e0b21-4d64-4440-8d8f-a32c0572f3a2"
      },
      "outputs": [
        {
          "output_type": "stream",
          "name": "stdout",
          "text": [
            "Index(['id', 'type', 'name', 'yearpublished', 'minplayers', 'maxplayers',\n",
            "       'playingtime', 'minplaytime', 'maxplaytime', 'minage', 'users_rated',\n",
            "       'average_rating', 'bayes_average_rating', 'total_owners',\n",
            "       'total_traders', 'total_wanters', 'total_wishers', 'total_comments',\n",
            "       'total_weights', 'average_weight'],\n",
            "      dtype='object')\n",
            "(81312, 20)\n"
          ]
        }
      ],
      "source": [
        "#read csv data\n",
        "games = pandas.read_csv(\"/content/drive/MyDrive/Colab Notebooks/games.csv\")\n",
        "#print columns of csv and number of entries\n",
        "print(games.columns)\n",
        "print(games.shape)"
      ]
    },
    {
      "cell_type": "code",
      "source": [],
      "metadata": {
        "id": "PUM8Pdp616R4"
      },
      "id": "PUM8Pdp616R4",
      "execution_count": 10,
      "outputs": []
    },
    {
      "cell_type": "code",
      "execution_count": 11,
      "id": "cb50e8de",
      "metadata": {
        "colab": {
          "base_uri": "https://localhost:8080/",
          "height": 265
        },
        "id": "cb50e8de",
        "outputId": "c55c3cc4-d7b0-4fc4-fc0d-ad3554f66494"
      },
      "outputs": [
        {
          "output_type": "display_data",
          "data": {
            "text/plain": [
              "<Figure size 432x288 with 1 Axes>"
            ],
            "image/png": "[encoded data removed]"
          },
          "metadata": {
            "needs_background": "light"
          }
        }
      ],
      "source": [
        "# Make a histogram of average rating column\n",
        "plt.hist(games[\"average_rating\"])\n",
        "plt.show()"
      ]
    },
    {
      "cell_type": "code",
      "execution_count": 12,
      "id": "87f4d75e",
      "metadata": {
        "colab": {
          "base_uri": "https://localhost:8080/"
        },
        "id": "87f4d75e",
        "outputId": "844287b6-d172-4826-8ea2-92bb95d2559b"
      },
      "outputs": [
        {
          "output_type": "stream",
          "name": "stdout",
          "text": [
            "id                             318\n",
            "type                     boardgame\n",
            "name                    Looney Leo\n",
            "yearpublished                  0.0\n",
            "minplayers                     0.0\n",
            "maxplayers                     0.0\n",
            "playingtime                    0.0\n",
            "minplaytime                    0.0\n",
            "maxplaytime                    0.0\n",
            "minage                         0.0\n",
            "users_rated                      0\n",
            "average_rating                 0.0\n",
            "bayes_average_rating           0.0\n",
            "total_owners                     0\n",
            "total_traders                    0\n",
            "total_wanters                    0\n",
            "total_wishers                    1\n",
            "total_comments                   0\n",
            "total_weights                    0\n",
            "average_weight                 0.0\n",
            "Name: 13048, dtype: object\n",
            "=======================================\n",
            "id                                  12333\n",
            "type                            boardgame\n",
            "name                    Twilight Struggle\n",
            "yearpublished                      2005.0\n",
            "minplayers                            2.0\n",
            "maxplayers                            2.0\n",
            "playingtime                         180.0\n",
            "minplaytime                         180.0\n",
            "maxplaytime                         180.0\n",
            "minage                               13.0\n",
            "users_rated                         20113\n",
            "average_rating                    8.33774\n",
            "bayes_average_rating              8.22186\n",
            "total_owners                        26647\n",
            "total_traders                         372\n",
            "total_wanters                        1219\n",
            "total_wishers                        5865\n",
            "total_comments                       5347\n",
            "total_weights                        2562\n",
            "average_weight                     3.4785\n",
            "Name: 0, dtype: object\n"
          ]
        }
      ],
      "source": [
        "#print first row of games with 0 average scores\n",
        "print(games[games[\"average_rating\"] == 0].iloc[0])\n",
        "print(\"=======================================\")\n",
        "print(games[games[\"average_rating\"] > 0].iloc[0])"
      ]
    },
    {
      "cell_type": "code",
      "execution_count": 13,
      "id": "2e2bad92",
      "metadata": {
        "id": "2e2bad92"
      },
      "outputs": [],
      "source": [
        "#remove rows with no user reviews\n",
        "games = games[games[\"users_rated\"] > 0]\n",
        "\n",
        "#remove rows with missing values\n",
        "games = games.dropna(axis=0)"
      ]
    },
    {
      "cell_type": "code",
      "execution_count": 14,
      "id": "1b8e3a63",
      "metadata": {
        "colab": {
          "base_uri": "https://localhost:8080/",
          "height": 265
        },
        "id": "1b8e3a63",
        "outputId": "ca1bc26b-6503-487a-8f71-2701f9cb5fa2"
      },
      "outputs": [
        {
          "output_type": "display_data",
          "data": {
            "text/plain": [
              "<Figure size 432x288 with 1 Axes>"
            ],
            "image/png": "[encoded data removed]"
          },
          "metadata": {
            "needs_background": "light"
          }
        }
      ],
      "source": [
        "# Make a histogram of average rating column\n",
        "plt.hist(games[\"average_rating\"])\n",
        "plt.show()"
      ]
    },
    {
      "cell_type": "code",
      "execution_count": 15,
      "id": "bec8249e",
      "metadata": {
        "colab": {
          "base_uri": "https://localhost:8080/",
          "height": 804
        },
        "id": "bec8249e",
        "outputId": "79c02caf-2aae-4813-9e4b-f1e6a22cf89a"
      },
      "outputs": [
        {
          "output_type": "display_data",
          "data": {
            "text/plain": [
              "<Figure size 1080x864 with 2 Axes>"
            ],
            "image/png": "[encoded data removed]"
          },
          "metadata": {
            "needs_background": "light"
          }
        }
      ],
      "source": [
        "# correlation matrix\n",
        "corrmat = games.corr()\n",
        "fig = plt.figure(figsize = (15, 12))\n",
        "sns.heatmap(corrmat, vmax = 1, square = True)\n",
        "plt.show()"
      ]
    },
    {
      "cell_type": "code",
      "execution_count": 16,
      "id": "2f3c5765",
      "metadata": {
        "id": "2f3c5765"
      },
      "outputs": [],
      "source": [
        "#Get columns from dataframe\n",
        "columns = games.columns.tolist()\n",
        "\n",
        "# remove columns we don't want\n",
        "\n",
        "columns = [c for c in columns if c not in [\"bayes_average_rating\", \"average_rating\", \"type\", \"name\", \"id\"]]\n",
        "\n",
        "target = \"average_rating\""
      ]
    },
    {
      "cell_type": "code",
      "execution_count": 17,
      "id": "d3282599",
      "metadata": {
        "colab": {
          "base_uri": "https://localhost:8080/"
        },
        "id": "d3282599",
        "outputId": "2be92d4f-f1b3-45a2-8d94-2330f4bc90bf"
      },
      "outputs": [
        {
          "output_type": "stream",
          "name": "stdout",
          "text": [
            "Train shape\n",
            "(45515, 20)\n",
            "===================================\n",
            "Test shape\n",
            "(11379, 20)\n"
          ]
        }
      ],
      "source": [
        "# split training and test dataset\n",
        "\n",
        "train = games.sample(frac=0.8, random_state = 1)\n",
        "test = games.loc[~games.index.isin(train.index)]\n",
        "\n",
        "print(\"Train shape\")\n",
        "print(train.shape)\n",
        "print(\"===================================\")\n",
        "print(\"Test shape\")\n",
        "print(test.shape)"
      ]
    },
    {
      "cell_type": "code",
      "execution_count": 18,
      "id": "3f1b4cc3",
      "metadata": {
        "colab": {
          "base_uri": "https://localhost:8080/"
        },
        "id": "3f1b4cc3",
        "outputId": "4a3dbde8-16c4-429a-ff1b-f3ff9097b186"
      },
      "outputs": [
        {
          "output_type": "execute_result",
          "data": {
            "text/plain": [
              "LinearRegression()"
            ]
          },
          "metadata": {},
          "execution_count": 18
        }
      ],
      "source": [
        "# Linear regression model\n",
        "from sklearn.linear_model import LinearRegression\n",
        "from sklearn.metrics import mean_squared_error\n",
        "\n",
        "#init the model\n",
        "LR = LinearRegression()\n",
        "\n",
        "#fit model to data\n",
        "\n",
        "LR.fit(train[columns], train[target])"
      ]
    },
    {
      "cell_type": "code",
      "execution_count": 19,
      "id": "29097390",
      "metadata": {
        "colab": {
          "base_uri": "https://localhost:8080/"
        },
        "id": "29097390",
        "outputId": "bbf97b95-62eb-44a4-8d9a-8c2839a90213"
      },
      "outputs": [
        {
          "output_type": "execute_result",
          "data": {
            "text/plain": [
              "2.0788190326293234"
            ]
          },
          "metadata": {},
          "execution_count": 19
        }
      ],
      "source": [
        "#Generate the predictions\n",
        "predictions = LR.predict(test[columns])\n",
        "\n",
        "# calc error between prediction and actual values\n",
        "\n",
        "mean_squared_error(predictions,test[target])"
      ]
    },
    {
      "cell_type": "code",
      "execution_count": 20,
      "id": "a38b1c63",
      "metadata": {
        "colab": {
          "base_uri": "https://localhost:8080/"
        },
        "id": "a38b1c63",
        "outputId": "455cb11a-f8ab-4812-f4ef-6e43bea77423"
      },
      "outputs": [
        {
          "output_type": "execute_result",
          "data": {
            "text/plain": [
              "RandomForestRegressor(min_samples_leaf=10, random_state=1)"
            ]
          },
          "metadata": {},
          "execution_count": 20
        }
      ],
      "source": [
        "# Non-linear model\n",
        "\n",
        "from sklearn.ensemble import RandomForestRegressor\n",
        "\n",
        "#init the model \n",
        "\n",
        "RFR = RandomForestRegressor(n_estimators = 100, min_samples_leaf = 10, random_state = 1)\n",
        "\n",
        "#fit model to data\n",
        "RFR.fit(train[columns], train[target])"
      ]
    },
    {
      "cell_type": "code",
      "execution_count": 21,
      "id": "54d0e478",
      "metadata": {
        "colab": {
          "base_uri": "https://localhost:8080/"
        },
        "id": "54d0e478",
        "outputId": "977f9986-1a83-44cd-ce75-146044d08f19"
      },
      "outputs": [
        {
          "output_type": "execute_result",
          "data": {
            "text/plain": [
              "1.4458625791207198"
            ]
          },
          "metadata": {},
          "execution_count": 21
        }
      ],
      "source": [
        "# Generate the predictions\n",
        "predictions = RFR.predict(test[columns])\n",
        "\n",
        "# calc error between prediction and actual values\n",
        "\n",
        "mean_squared_error(predictions,test[target])"
      ]
    },
    {
      "cell_type": "code",
      "execution_count": 22,
      "id": "eb105a20",
      "metadata": {
        "colab": {
          "base_uri": "https://localhost:8080/"
        },
        "id": "eb105a20",
        "outputId": "e705f527-e9a0-4b8f-9863-1493f53d1474"
      },
      "outputs": [
        {
          "output_type": "execute_result",
          "data": {
            "text/plain": [
              "yearpublished      2011.0000\n",
              "minplayers            2.0000\n",
              "maxplayers            6.0000\n",
              "playingtime         200.0000\n",
              "minplaytime          60.0000\n",
              "maxplaytime         200.0000\n",
              "minage               14.0000\n",
              "users_rated       15709.0000\n",
              "total_owners      17611.0000\n",
              "total_traders       273.0000\n",
              "total_wanters      1108.0000\n",
              "total_wishers      5581.0000\n",
              "total_comments     3188.0000\n",
              "total_weights      1486.0000\n",
              "average_weight        3.6359\n",
              "Name: 9, dtype: float64"
            ]
          },
          "metadata": {},
          "execution_count": 22
        }
      ],
      "source": [
        "test[columns].iloc[0]"
      ]
    },
    {
      "cell_type": "code",
      "execution_count": 23,
      "id": "5af220f8",
      "metadata": {
        "colab": {
          "base_uri": "https://localhost:8080/"
        },
        "id": "5af220f8",
        "outputId": "b61b5a27-c993-49fb-dbf9-f42838cb9a82"
      },
      "outputs": [
        {
          "output_type": "stream",
          "name": "stdout",
          "text": [
            "LR rating :   [8.12061283]\n",
            "LR rating :   [7.91373581]\n",
            "Actual rating :   8.07933\n"
          ]
        },
        {
          "output_type": "stream",
          "name": "stderr",
          "text": [
            "/usr/local/lib/python3.7/dist-packages/sklearn/base.py:451: UserWarning: X does not have valid feature names, but LinearRegression was fitted with feature names\n",
            "  \"X does not have valid feature names, but\"\n",
            "/usr/local/lib/python3.7/dist-packages/sklearn/base.py:451: UserWarning: X does not have valid feature names, but RandomForestRegressor was fitted with feature names\n",
            "  \"X does not have valid feature names, but\"\n"
          ]
        }
      ],
      "source": [
        "rating_LR = LR.predict(test[columns].iloc[0].values.reshape(1,-1))\n",
        "rating_RFR = RFR.predict(test[columns].iloc[0].values.reshape(1,-1))\n",
        "\n",
        "print(\"LR rating :  \", rating_LR)\n",
        "print(\"LR rating :  \", rating_RFR)\n",
        "\n",
        "print(\"Actual rating :  \", test[target].iloc[0])\n"
      ]
    }
  ],
  "metadata": {
    "kernelspec": {
      "display_name": "Python 3 (ipykernel)",
      "language": "python",
      "name": "python3"
    },
    "language_info": {
      "codemirror_mode": {
        "name": "ipython",
        "version": 3
      },
      "file_extension": ".py",
      "mimetype": "text/x-python",
      "name": "python",
      "nbconvert_exporter": "python",
      "pygments_lexer": "ipython3",
      "version": "3.9.12"
    },
    "colab": {
      "provenance": [],
      "collapsed_sections": [],
      "include_colab_link": true
    }
  },
  "nbformat": 4,
  "nbformat_minor": 5
}